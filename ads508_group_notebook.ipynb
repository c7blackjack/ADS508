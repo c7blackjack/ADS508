{
 "cells": [
  {
   "cell_type": "code",
   "execution_count": 7,
   "metadata": {},
   "outputs": [],
   "source": [
    "### Import Packages"
   ]
  },
  {
   "cell_type": "code",
   "execution_count": 8,
   "metadata": {},
   "outputs": [],
   "source": [
    "import boto3\n",
    "import sagemaker\n",
    "import pandas as pd"
   ]
  },
  {
   "cell_type": "code",
   "execution_count": 9,
   "metadata": {},
   "outputs": [],
   "source": [
    "client = boto3.client('s3')\n"
   ]
  },
  {
   "cell_type": "code",
   "execution_count": 10,
   "metadata": {},
   "outputs": [
    {
     "data": {
      "text/plain": [
       "{'ResponseMetadata': {'RequestId': '7VP7C0KK6BSGVDVM',\n",
       "  'HostId': 'BVpUjBvD3S2ZEAmazIrspuZhqIZ3DDzpVEHvqaPjMA4pR4nMHJfe6he8tJ8qqXIOP7kwQ8z2/hM=',\n",
       "  'HTTPStatusCode': 200,\n",
       "  'HTTPHeaders': {'x-amz-id-2': 'BVpUjBvD3S2ZEAmazIrspuZhqIZ3DDzpVEHvqaPjMA4pR4nMHJfe6he8tJ8qqXIOP7kwQ8z2/hM=',\n",
       "   'x-amz-request-id': '7VP7C0KK6BSGVDVM',\n",
       "   'date': 'Thu, 17 Mar 2022 07:47:50 GMT',\n",
       "   'content-type': 'application/xml',\n",
       "   'transfer-encoding': 'chunked',\n",
       "   'server': 'AmazonS3'},\n",
       "  'RetryAttempts': 0},\n",
       " 'Buckets': [{'Name': 'ads508teamproject',\n",
       "   'CreationDate': datetime.datetime(2022, 3, 12, 9, 53, 53, tzinfo=tzutc())}],\n",
       " 'Owner': {'DisplayName': 'tlloyd',\n",
       "  'ID': '48f14138b8ccbbc0993dd4b3360b951bc781c4f97d5ca71230c87d4a1d8c4443'}}"
      ]
     },
     "execution_count": 10,
     "metadata": {},
     "output_type": "execute_result"
    }
   ],
   "source": [
    "resp = client.list_buckets()\n",
    "resp"
   ]
  },
  {
   "cell_type": "code",
   "execution_count": 11,
   "metadata": {},
   "outputs": [],
   "source": [
    "s3 = boto3.resource('s3')"
   ]
  },
  {
   "cell_type": "code",
   "execution_count": 13,
   "metadata": {},
   "outputs": [
    {
     "data": {
      "text/plain": [
       "[s3.Bucket(name='ads508teamproject')]"
      ]
     },
     "execution_count": 13,
     "metadata": {},
     "output_type": "execute_result"
    }
   ],
   "source": [
    "list(s3.buckets.all())"
   ]
  },
  {
   "cell_type": "code",
   "execution_count": 14,
   "metadata": {},
   "outputs": [],
   "source": [
    "bucket = s3.Bucket('ads508teamproject')"
   ]
  },
  {
   "cell_type": "code",
   "execution_count": 16,
   "metadata": {},
   "outputs": [
    {
     "data": {
      "text/plain": [
       "[s3.ObjectSummary(bucket_name='ads508teamproject', key='cyouth_demo_age_20210328.csv'),\n",
       " s3.ObjectSummary(bucket_name='ads508teamproject', key='cyouth_demo_race_20210328.csv'),\n",
       " s3.ObjectSummary(bucket_name='ads508teamproject', key='cyouth_demo_sex_20210328.csv')]"
      ]
     },
     "execution_count": 16,
     "metadata": {},
     "output_type": "execute_result"
    }
   ],
   "source": [
    "list(bucket.objects.all())"
   ]
  },
  {
   "cell_type": "code",
   "execution_count": null,
   "metadata": {},
   "outputs": [],
   "source": []
  }
 ],
 "metadata": {
  "interpreter": {
   "hash": "0037172f117d17e9bd2d1ad67e34cbc2b847376df27838d426894dbc845829f9"
  },
  "kernelspec": {
   "display_name": "Python 3.8.5 ('base')",
   "language": "python",
   "name": "python3"
  },
  "language_info": {
   "codemirror_mode": {
    "name": "ipython",
    "version": 3
   },
   "file_extension": ".py",
   "mimetype": "text/x-python",
   "name": "python",
   "nbconvert_exporter": "python",
   "pygments_lexer": "ipython3",
   "version": "3.8.5"
  },
  "orig_nbformat": 4
 },
 "nbformat": 4,
 "nbformat_minor": 2
}
